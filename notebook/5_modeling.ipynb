{
 "cells": [
  {
   "cell_type": "markdown",
   "id": "21751585",
   "metadata": {},
   "source": [
    "# ML Modeling Notebook\n",
    "\n",
    "**Goal**: The aim of this notebook is to determine the best model with the lowest error.\n",
    "\n",
    "**Output**: Best model for deployment.\n",
    "\n",
    "**Table of Content**\n",
    "- [1 Library](#1-Library)\n",
    "- [2 Load Data](#2-Load-Data)\n",
    "- [3 Preprocess](#3-Preprocess)\n",
    "- [4 Benchmark Modeling](#4-Benchmark-Modeling)\n",
    "- [5 Tweaking the Model](#5-Tweaking-the-Model)\n",
    "    - [5.1 Feature Selection](#5.1-Feature-Selection)\n",
    "    - [5.2 Hyperparameter Tuning](#5.2-Hyperparameter-Tuning)\n",
    "- [6 Predict Test Data and Evaluate](#6-Predict-Test-Data-and-Evaluate)\n",
    "- [5 Conclusion](#7-Conclusion)\n",
    "\n",
    "<span style=\"color:red\"> <strong>Warning: </strong> </span> Due to the large size of the data, running this notebook may take approximately 5 minutes."
   ]
  },
  {
   "cell_type": "markdown",
   "id": "6d86232e",
   "metadata": {},
   "source": [
    "___\n",
    "# 1 Library"
   ]
  },
  {
   "cell_type": "code",
   "execution_count": 1,
   "id": "7b19d116",
   "metadata": {},
   "outputs": [],
   "source": [
    "# Standard library\n",
    "import pandas as pd\n",
    "import numpy as np\n",
    "import scipy.stats as scs\n",
    "import joblib\n",
    "\n",
    "# Visualization library\n",
    "import matplotlib.pyplot as plt\n",
    "import seaborn as sns\n",
    "\n",
    "# Preprocessing and Modeling Library\n",
    "from sklearn.model_selection import train_test_split, cross_val_score, StratifiedKFold, GridSearchCV, RandomizedSearchCV\n",
    "from sklearn.pipeline import Pipeline\n",
    "from sklearn.impute import SimpleImputer\n",
    "from sklearn.preprocessing import MinMaxScaler, StandardScaler, RobustScaler, LabelEncoder\n",
    "from sklearn.preprocessing import OneHotEncoder\n",
    "import category_encoders as ce\n",
    "from sklearn.compose import ColumnTransformer\n",
    "from sklearn.linear_model import LogisticRegression, LinearRegression, Lasso, Ridge\n",
    "from sklearn.neighbors import KNeighborsRegressor\n",
    "from sklearn.tree import DecisionTreeRegressor\n",
    "from sklearn.tree import plot_tree\n",
    "from sklearn.ensemble import RandomForestRegressor\n",
    "from xgboost import XGBRegressor\n",
    "from sklearn.metrics import r2_score, mean_squared_error as mse, mean_absolute_error as mae, mean_absolute_percentage_error as mape\n",
    "from sklearn.feature_selection import SelectFromModel\n",
    "import pickle\n",
    "\n",
    "import warnings \n",
    "warnings.filterwarnings('ignore')"
   ]
  },
  {
   "cell_type": "markdown",
   "id": "d134d33a",
   "metadata": {},
   "source": [
    "# 2 Load Data"
   ]
  },
  {
   "cell_type": "markdown",
   "id": "b435ceae",
   "metadata": {},
   "source": [
    "<span style=\"color:blue\"> <strong>Must Read!</strong> </span>\n",
    "\n",
    "The metadata can be seen in [this link](https://docs.google.com/spreadsheets/d/11lHi8CAf5iGoegEbtrQ7qPk9n2M6BQtzYLK9RLLqGmU/edit#gid=0)."
   ]
  },
  {
   "cell_type": "code",
   "execution_count": null,
   "id": "6744034d",
   "metadata": {},
   "outputs": [],
   "source": []
  },
  {
   "cell_type": "code",
   "execution_count": 2,
   "id": "7157f580",
   "metadata": {},
   "outputs": [
    {
     "name": "stdout",
     "output_type": "stream",
     "text": [
      "86604 53023 37116\n"
     ]
    }
   ],
   "source": [
    "# Load data\n",
    "train_set = pd.read_csv('dataset/split/dataset_train.csv', index_col=0)\n",
    "valid_set = pd.read_csv('dataset/split/dataset_test.csv', index_col=0)\n",
    "test_set = pd.read_csv('dataset/split/dataset_valid.csv', index_col=0)\n",
    "\n",
    "print(len(train_set), len(valid_set), len(test_set))"
   ]
  },
  {
   "cell_type": "code",
   "execution_count": 3,
   "id": "79f5528e",
   "metadata": {},
   "outputs": [
    {
     "name": "stdout",
     "output_type": "stream",
     "text": [
      "82201 50390 35232\n"
     ]
    }
   ],
   "source": [
    "# Filters housing unit only\n",
    "housing = [1, 2, 3, 7, 8, 14]\n",
    "train_set = train_set[train_set['category_id'].isin(housing)]\n",
    "valid_set = valid_set[valid_set['category_id'].isin(housing)]\n",
    "test_set = test_set[test_set['category_id'].isin(housing)]\n",
    "\n",
    "print(len(train_set), len(valid_set), len(test_set))"
   ]
  },
  {
   "cell_type": "markdown",
   "id": "693a0013",
   "metadata": {},
   "source": [
    "# 3 Preprocess"
   ]
  },
  {
   "cell_type": "code",
   "execution_count": 4,
   "id": "20472bf0",
   "metadata": {},
   "outputs": [],
   "source": [
    "# Create function to remove outliers\n",
    "def remove_outliers(set_data):\n",
    "    num_col = set_data.select_dtypes(include=['int64', 'float64']).columns.to_list()\n",
    "    \n",
    "    list_of_set_data = list()\n",
    "\n",
    "    for col_name in num_col:\n",
    "        q1 = set_data[col_name].quantile(0.1)\n",
    "        q3 = set_data[col_name].quantile(0.9)\n",
    "        iqr = q3 - q1\n",
    "        set_data = set_data[~((set_data[col_name] < (q1 - 1.5 * iqr))\n",
    "                            | (set_data[col_name] > (q3 + 1.5 * iqr)))].copy()\n",
    "\n",
    "    return set_data"
   ]
  },
  {
   "cell_type": "code",
   "execution_count": 5,
   "id": "641b36d4",
   "metadata": {},
   "outputs": [],
   "source": [
    "# # Remove outliers on train, valid, and test data\n",
    "# train_set = remove_outliers(train_set)\n",
    "# valid_set = remove_outliers(valid_set)\n",
    "# test_set = remove_outliers(test_set)\n",
    "# print(len(train_set))\n",
    "# print(len(valid_set))\n",
    "# print(len(test_set))"
   ]
  },
  {
   "cell_type": "code",
   "execution_count": 6,
   "id": "b2cc3fae",
   "metadata": {},
   "outputs": [
    {
     "name": "stdout",
     "output_type": "stream",
     "text": [
      "82201 82201 50390 50390 35232 35232\n"
     ]
    }
   ],
   "source": [
    "# Split to X y and Drop irrelevant column for modelling\n",
    "X_train = train_set.drop(columns = ['address', 'zip_code', 'borough_name', 'borough',\n",
    "                                    'block', 'lot', 'latitude', 'longitude', 'geometry', \n",
    "                                    'category_id', 'building_class_name', 'sale_date', 'sale_price'])\n",
    "y_train = train_set['sale_price']\n",
    "\n",
    "X_valid = valid_set.drop(columns = ['address', 'zip_code', 'borough_name', 'borough',\n",
    "                                    'block', 'lot', 'latitude', 'longitude', 'geometry', \n",
    "                                    'category_id', 'building_class_name', 'sale_date', 'sale_price'])\n",
    "y_valid = valid_set['sale_price']\n",
    "\n",
    "X_test = test_set.drop(columns = ['address', 'zip_code', 'borough_name', 'borough',\n",
    "                                  'block', 'lot', 'latitude', 'longitude', 'geometry', \n",
    "                                  'category_id', 'building_class_name', 'sale_date', 'sale_price'])\n",
    "y_test = test_set['sale_price']\n",
    "\n",
    "print(len(X_train), len(y_train), len(X_valid), len(y_valid), len(X_test), len(y_test))"
   ]
  },
  {
   "cell_type": "code",
   "execution_count": 36,
   "id": "bacf4738",
   "metadata": {},
   "outputs": [
    {
     "data": {
      "text/plain": [
       "Index(['building_class_category', 'gross_square_feet', 'year_built',\n",
       "       'subway_count_in_1km', 'bus_count_in_1km', 'schools_count_in_1km',\n",
       "       'health_facil_count_in_1km', 'park_properties_count_in_1km',\n",
       "       'park_zones_count_in_1km'],\n",
       "      dtype='object')"
      ]
     },
     "execution_count": 36,
     "metadata": {},
     "output_type": "execute_result"
    }
   ],
   "source": [
    "X_train.columns"
   ]
  },
  {
   "cell_type": "code",
   "execution_count": 7,
   "id": "c07d39b7",
   "metadata": {},
   "outputs": [
    {
     "data": {
      "text/plain": [
       "array([[-0.12970732, -1.36575996,  0.25222716, ..., -0.77715265,\n",
       "        -0.53963136,  0.3701601 ],\n",
       "       [-0.29065076,  0.37440748, -0.65238569, ..., -0.52194077,\n",
       "        -0.75413739, -0.74854023],\n",
       "       [-0.14745844,  0.88622144, -0.65238569, ..., -0.9047586 ,\n",
       "        -0.32512534,  0.3701601 ],\n",
       "       ...,\n",
       "       [-0.20860117, -0.13740647, -0.65238569, ..., -0.77715265,\n",
       "        -0.64688438, -0.74854023],\n",
       "       [-0.2543596 , -0.30801112, -0.65238569, ..., -0.77715265,\n",
       "        -0.75413739, -0.74854023],\n",
       "       [-0.22911357,  0.54501213, -0.149823  , ...,  0.24369489,\n",
       "        -0.64688438, -0.3010601 ]])"
      ]
     },
     "execution_count": 7,
     "metadata": {},
     "output_type": "execute_result"
    }
   ],
   "source": [
    "# Scaling\n",
    "scaler = StandardScaler()\n",
    "scaler.fit(X_train.drop(columns=['building_class_category']))\n",
    "scaled = scaler.transform(X_train.drop(columns=['building_class_category']))\n",
    "scaled"
   ]
  },
  {
   "cell_type": "code",
   "execution_count": 8,
   "id": "9067ddcf",
   "metadata": {},
   "outputs": [
    {
     "data": {
      "text/html": [
       "<div>\n",
       "<style scoped>\n",
       "    .dataframe tbody tr th:only-of-type {\n",
       "        vertical-align: middle;\n",
       "    }\n",
       "\n",
       "    .dataframe tbody tr th {\n",
       "        vertical-align: top;\n",
       "    }\n",
       "\n",
       "    .dataframe thead th {\n",
       "        text-align: right;\n",
       "    }\n",
       "</style>\n",
       "<table border=\"1\" class=\"dataframe\">\n",
       "  <thead>\n",
       "    <tr style=\"text-align: right;\">\n",
       "      <th></th>\n",
       "      <th>gross_square_feet</th>\n",
       "      <th>year_built</th>\n",
       "      <th>subway_count_in_1km</th>\n",
       "      <th>bus_count_in_1km</th>\n",
       "      <th>schools_count_in_1km</th>\n",
       "      <th>health_facil_count_in_1km</th>\n",
       "      <th>park_properties_count_in_1km</th>\n",
       "      <th>park_zones_count_in_1km</th>\n",
       "    </tr>\n",
       "  </thead>\n",
       "  <tbody>\n",
       "    <tr>\n",
       "      <th>128157</th>\n",
       "      <td>-0.129707</td>\n",
       "      <td>-1.365760</td>\n",
       "      <td>0.252227</td>\n",
       "      <td>0.114231</td>\n",
       "      <td>-0.612665</td>\n",
       "      <td>-0.777153</td>\n",
       "      <td>-0.539631</td>\n",
       "      <td>0.37016</td>\n",
       "    </tr>\n",
       "    <tr>\n",
       "      <th>158906</th>\n",
       "      <td>-0.290651</td>\n",
       "      <td>0.374407</td>\n",
       "      <td>-0.652386</td>\n",
       "      <td>-0.581923</td>\n",
       "      <td>-0.903838</td>\n",
       "      <td>-0.521941</td>\n",
       "      <td>-0.754137</td>\n",
       "      <td>-0.74854</td>\n",
       "    </tr>\n",
       "    <tr>\n",
       "      <th>144731</th>\n",
       "      <td>-0.147458</td>\n",
       "      <td>0.886221</td>\n",
       "      <td>-0.652386</td>\n",
       "      <td>-0.581923</td>\n",
       "      <td>-0.806780</td>\n",
       "      <td>-0.904759</td>\n",
       "      <td>-0.325125</td>\n",
       "      <td>0.37016</td>\n",
       "    </tr>\n",
       "    <tr>\n",
       "      <th>89241</th>\n",
       "      <td>-0.143908</td>\n",
       "      <td>1.705124</td>\n",
       "      <td>-0.652386</td>\n",
       "      <td>-0.283571</td>\n",
       "      <td>-0.903838</td>\n",
       "      <td>-0.904759</td>\n",
       "      <td>-0.325125</td>\n",
       "      <td>-0.74854</td>\n",
       "    </tr>\n",
       "    <tr>\n",
       "      <th>48772</th>\n",
       "      <td>-0.080596</td>\n",
       "      <td>1.227431</td>\n",
       "      <td>0.352740</td>\n",
       "      <td>0.213682</td>\n",
       "      <td>0.357913</td>\n",
       "      <td>-0.266729</td>\n",
       "      <td>0.425646</td>\n",
       "      <td>-0.52480</td>\n",
       "    </tr>\n",
       "    <tr>\n",
       "      <th>...</th>\n",
       "      <td>...</td>\n",
       "      <td>...</td>\n",
       "      <td>...</td>\n",
       "      <td>...</td>\n",
       "      <td>...</td>\n",
       "      <td>...</td>\n",
       "      <td>...</td>\n",
       "      <td>...</td>\n",
       "    </tr>\n",
       "    <tr>\n",
       "      <th>6525</th>\n",
       "      <td>0.147210</td>\n",
       "      <td>-0.308011</td>\n",
       "      <td>-0.049310</td>\n",
       "      <td>0.512033</td>\n",
       "      <td>-0.030318</td>\n",
       "      <td>-0.139123</td>\n",
       "      <td>0.961911</td>\n",
       "      <td>0.81764</td>\n",
       "    </tr>\n",
       "    <tr>\n",
       "      <th>94820</th>\n",
       "      <td>-0.365008</td>\n",
       "      <td>-1.297518</td>\n",
       "      <td>-0.451361</td>\n",
       "      <td>-0.880274</td>\n",
       "      <td>-1.195012</td>\n",
       "      <td>-0.777153</td>\n",
       "      <td>-0.861390</td>\n",
       "      <td>-0.30106</td>\n",
       "    </tr>\n",
       "    <tr>\n",
       "      <th>183653</th>\n",
       "      <td>-0.208601</td>\n",
       "      <td>-0.137406</td>\n",
       "      <td>-0.652386</td>\n",
       "      <td>-0.184120</td>\n",
       "      <td>-0.321491</td>\n",
       "      <td>-0.777153</td>\n",
       "      <td>-0.646884</td>\n",
       "      <td>-0.74854</td>\n",
       "    </tr>\n",
       "    <tr>\n",
       "      <th>113299</th>\n",
       "      <td>-0.254360</td>\n",
       "      <td>-0.308011</td>\n",
       "      <td>-0.652386</td>\n",
       "      <td>-0.581923</td>\n",
       "      <td>-0.709723</td>\n",
       "      <td>-0.777153</td>\n",
       "      <td>-0.754137</td>\n",
       "      <td>-0.74854</td>\n",
       "    </tr>\n",
       "    <tr>\n",
       "      <th>143066</th>\n",
       "      <td>-0.229114</td>\n",
       "      <td>0.545012</td>\n",
       "      <td>-0.149823</td>\n",
       "      <td>0.313132</td>\n",
       "      <td>-0.030318</td>\n",
       "      <td>0.243695</td>\n",
       "      <td>-0.646884</td>\n",
       "      <td>-0.30106</td>\n",
       "    </tr>\n",
       "  </tbody>\n",
       "</table>\n",
       "<p>82201 rows × 8 columns</p>\n",
       "</div>"
      ],
      "text/plain": [
       "        gross_square_feet  year_built  subway_count_in_1km  bus_count_in_1km  \\\n",
       "128157          -0.129707   -1.365760             0.252227          0.114231   \n",
       "158906          -0.290651    0.374407            -0.652386         -0.581923   \n",
       "144731          -0.147458    0.886221            -0.652386         -0.581923   \n",
       "89241           -0.143908    1.705124            -0.652386         -0.283571   \n",
       "48772           -0.080596    1.227431             0.352740          0.213682   \n",
       "...                   ...         ...                  ...               ...   \n",
       "6525             0.147210   -0.308011            -0.049310          0.512033   \n",
       "94820           -0.365008   -1.297518            -0.451361         -0.880274   \n",
       "183653          -0.208601   -0.137406            -0.652386         -0.184120   \n",
       "113299          -0.254360   -0.308011            -0.652386         -0.581923   \n",
       "143066          -0.229114    0.545012            -0.149823          0.313132   \n",
       "\n",
       "        schools_count_in_1km  health_facil_count_in_1km  \\\n",
       "128157             -0.612665                  -0.777153   \n",
       "158906             -0.903838                  -0.521941   \n",
       "144731             -0.806780                  -0.904759   \n",
       "89241              -0.903838                  -0.904759   \n",
       "48772               0.357913                  -0.266729   \n",
       "...                      ...                        ...   \n",
       "6525               -0.030318                  -0.139123   \n",
       "94820              -1.195012                  -0.777153   \n",
       "183653             -0.321491                  -0.777153   \n",
       "113299             -0.709723                  -0.777153   \n",
       "143066             -0.030318                   0.243695   \n",
       "\n",
       "        park_properties_count_in_1km  park_zones_count_in_1km  \n",
       "128157                     -0.539631                  0.37016  \n",
       "158906                     -0.754137                 -0.74854  \n",
       "144731                     -0.325125                  0.37016  \n",
       "89241                      -0.325125                 -0.74854  \n",
       "48772                       0.425646                 -0.52480  \n",
       "...                              ...                      ...  \n",
       "6525                        0.961911                  0.81764  \n",
       "94820                      -0.861390                 -0.30106  \n",
       "183653                     -0.646884                 -0.74854  \n",
       "113299                     -0.754137                 -0.74854  \n",
       "143066                     -0.646884                 -0.30106  \n",
       "\n",
       "[82201 rows x 8 columns]"
      ]
     },
     "execution_count": 8,
     "metadata": {},
     "output_type": "execute_result"
    }
   ],
   "source": [
    "# Display data\n",
    "train_scaled = pd.DataFrame(scaled, columns=X_train.drop(columns=['building_class_category']).columns)\n",
    "train_scaled.index = X_train.index\n",
    "train_scaled"
   ]
  },
  {
   "cell_type": "code",
   "execution_count": 9,
   "id": "b5a3fe6a",
   "metadata": {},
   "outputs": [
    {
     "data": {
      "text/html": [
       "<div>\n",
       "<style scoped>\n",
       "    .dataframe tbody tr th:only-of-type {\n",
       "        vertical-align: middle;\n",
       "    }\n",
       "\n",
       "    .dataframe tbody tr th {\n",
       "        vertical-align: top;\n",
       "    }\n",
       "\n",
       "    .dataframe thead th {\n",
       "        text-align: right;\n",
       "    }\n",
       "</style>\n",
       "<table border=\"1\" class=\"dataframe\">\n",
       "  <thead>\n",
       "    <tr style=\"text-align: right;\">\n",
       "      <th></th>\n",
       "      <th>gross_square_feet</th>\n",
       "      <th>year_built</th>\n",
       "      <th>subway_count_in_1km</th>\n",
       "      <th>bus_count_in_1km</th>\n",
       "      <th>schools_count_in_1km</th>\n",
       "      <th>health_facil_count_in_1km</th>\n",
       "      <th>park_properties_count_in_1km</th>\n",
       "      <th>park_zones_count_in_1km</th>\n",
       "    </tr>\n",
       "  </thead>\n",
       "  <tbody>\n",
       "    <tr>\n",
       "      <th>11815</th>\n",
       "      <td>0.097507</td>\n",
       "      <td>-1.161034</td>\n",
       "      <td>0.553765</td>\n",
       "      <td>0.114231</td>\n",
       "      <td>0.066740</td>\n",
       "      <td>2.157784</td>\n",
       "      <td>-0.539631</td>\n",
       "      <td>-0.52480</td>\n",
       "    </tr>\n",
       "    <tr>\n",
       "      <th>95103</th>\n",
       "      <td>-0.246470</td>\n",
       "      <td>-0.990430</td>\n",
       "      <td>-0.451361</td>\n",
       "      <td>-0.681373</td>\n",
       "      <td>0.163798</td>\n",
       "      <td>-0.139123</td>\n",
       "      <td>-0.325125</td>\n",
       "      <td>-0.74854</td>\n",
       "    </tr>\n",
       "    <tr>\n",
       "      <th>100313</th>\n",
       "      <td>-0.216096</td>\n",
       "      <td>-1.161034</td>\n",
       "      <td>-0.049310</td>\n",
       "      <td>0.014781</td>\n",
       "      <td>0.163798</td>\n",
       "      <td>1.774966</td>\n",
       "      <td>-0.432378</td>\n",
       "      <td>0.14642</td>\n",
       "    </tr>\n",
       "    <tr>\n",
       "      <th>114578</th>\n",
       "      <td>-0.282761</td>\n",
       "      <td>-0.308011</td>\n",
       "      <td>-0.652386</td>\n",
       "      <td>-0.880274</td>\n",
       "      <td>-0.709723</td>\n",
       "      <td>-0.394335</td>\n",
       "      <td>-0.539631</td>\n",
       "      <td>-0.74854</td>\n",
       "    </tr>\n",
       "    <tr>\n",
       "      <th>137772</th>\n",
       "      <td>-0.302485</td>\n",
       "      <td>-0.308011</td>\n",
       "      <td>-0.551873</td>\n",
       "      <td>-0.880274</td>\n",
       "      <td>-1.195012</td>\n",
       "      <td>-0.139123</td>\n",
       "      <td>-0.110619</td>\n",
       "      <td>0.37016</td>\n",
       "    </tr>\n",
       "    <tr>\n",
       "      <th>...</th>\n",
       "      <td>...</td>\n",
       "      <td>...</td>\n",
       "      <td>...</td>\n",
       "      <td>...</td>\n",
       "      <td>...</td>\n",
       "      <td>...</td>\n",
       "      <td>...</td>\n",
       "      <td>...</td>\n",
       "    </tr>\n",
       "    <tr>\n",
       "      <th>180446</th>\n",
       "      <td>-0.229114</td>\n",
       "      <td>-0.649220</td>\n",
       "      <td>-0.652386</td>\n",
       "      <td>-0.283571</td>\n",
       "      <td>-0.806780</td>\n",
       "      <td>-0.011517</td>\n",
       "      <td>-0.217872</td>\n",
       "      <td>0.14642</td>\n",
       "    </tr>\n",
       "    <tr>\n",
       "      <th>139364</th>\n",
       "      <td>-0.300118</td>\n",
       "      <td>0.033198</td>\n",
       "      <td>-0.652386</td>\n",
       "      <td>0.114231</td>\n",
       "      <td>-0.127376</td>\n",
       "      <td>-0.649547</td>\n",
       "      <td>-0.754137</td>\n",
       "      <td>-0.74854</td>\n",
       "    </tr>\n",
       "    <tr>\n",
       "      <th>7893</th>\n",
       "      <td>0.109341</td>\n",
       "      <td>-0.308011</td>\n",
       "      <td>1.558890</td>\n",
       "      <td>1.407088</td>\n",
       "      <td>0.163798</td>\n",
       "      <td>0.881725</td>\n",
       "      <td>3.214224</td>\n",
       "      <td>-0.52480</td>\n",
       "    </tr>\n",
       "    <tr>\n",
       "      <th>120083</th>\n",
       "      <td>-0.355344</td>\n",
       "      <td>1.773366</td>\n",
       "      <td>-0.250336</td>\n",
       "      <td>-0.681373</td>\n",
       "      <td>-1.195012</td>\n",
       "      <td>-1.032365</td>\n",
       "      <td>-0.754137</td>\n",
       "      <td>-0.74854</td>\n",
       "    </tr>\n",
       "    <tr>\n",
       "      <th>103911</th>\n",
       "      <td>0.244250</td>\n",
       "      <td>-0.308011</td>\n",
       "      <td>0.051202</td>\n",
       "      <td>1.705440</td>\n",
       "      <td>0.552029</td>\n",
       "      <td>-0.266729</td>\n",
       "      <td>1.927188</td>\n",
       "      <td>0.37016</td>\n",
       "    </tr>\n",
       "  </tbody>\n",
       "</table>\n",
       "<p>50390 rows × 8 columns</p>\n",
       "</div>"
      ],
      "text/plain": [
       "        gross_square_feet  year_built  subway_count_in_1km  bus_count_in_1km  \\\n",
       "11815            0.097507   -1.161034             0.553765          0.114231   \n",
       "95103           -0.246470   -0.990430            -0.451361         -0.681373   \n",
       "100313          -0.216096   -1.161034            -0.049310          0.014781   \n",
       "114578          -0.282761   -0.308011            -0.652386         -0.880274   \n",
       "137772          -0.302485   -0.308011            -0.551873         -0.880274   \n",
       "...                   ...         ...                  ...               ...   \n",
       "180446          -0.229114   -0.649220            -0.652386         -0.283571   \n",
       "139364          -0.300118    0.033198            -0.652386          0.114231   \n",
       "7893             0.109341   -0.308011             1.558890          1.407088   \n",
       "120083          -0.355344    1.773366            -0.250336         -0.681373   \n",
       "103911           0.244250   -0.308011             0.051202          1.705440   \n",
       "\n",
       "        schools_count_in_1km  health_facil_count_in_1km  \\\n",
       "11815               0.066740                   2.157784   \n",
       "95103               0.163798                  -0.139123   \n",
       "100313              0.163798                   1.774966   \n",
       "114578             -0.709723                  -0.394335   \n",
       "137772             -1.195012                  -0.139123   \n",
       "...                      ...                        ...   \n",
       "180446             -0.806780                  -0.011517   \n",
       "139364             -0.127376                  -0.649547   \n",
       "7893                0.163798                   0.881725   \n",
       "120083             -1.195012                  -1.032365   \n",
       "103911              0.552029                  -0.266729   \n",
       "\n",
       "        park_properties_count_in_1km  park_zones_count_in_1km  \n",
       "11815                      -0.539631                 -0.52480  \n",
       "95103                      -0.325125                 -0.74854  \n",
       "100313                     -0.432378                  0.14642  \n",
       "114578                     -0.539631                 -0.74854  \n",
       "137772                     -0.110619                  0.37016  \n",
       "...                              ...                      ...  \n",
       "180446                     -0.217872                  0.14642  \n",
       "139364                     -0.754137                 -0.74854  \n",
       "7893                        3.214224                 -0.52480  \n",
       "120083                     -0.754137                 -0.74854  \n",
       "103911                      1.927188                  0.37016  \n",
       "\n",
       "[50390 rows x 8 columns]"
      ]
     },
     "execution_count": 9,
     "metadata": {},
     "output_type": "execute_result"
    }
   ],
   "source": [
    "# Transform and Display data\n",
    "scaled_val = scaler.transform(X_valid.drop(columns=['building_class_category']))\n",
    "scaled_ts = scaler.transform(X_test.drop(columns=['building_class_category']))\n",
    "\n",
    "valid_scaled = pd.DataFrame(scaled_val, columns=X_valid.drop(columns=['building_class_category']).columns)\n",
    "test_scaled = pd.DataFrame(scaled_ts, columns=X_valid.drop(columns=['building_class_category']).columns)\n",
    "\n",
    "valid_scaled.index = X_valid.index\n",
    "test_scaled.index = X_test.index\n",
    "\n",
    "valid_scaled"
   ]
  },
  {
   "cell_type": "code",
   "execution_count": 10,
   "id": "f16069dc",
   "metadata": {},
   "outputs": [],
   "source": [
    "# # Categorical features encoding\n",
    "# le = LabelEncoder()\n",
    "\n",
    "# le.fit(X_train['building_class_category'])\n",
    "# train_scaled['building_class_category'] = le.transform(X_train['building_class_category'])\n",
    "\n",
    "# valid_scaled['building_class_category'] = le.transform(X_valid['building_class_category'])\n",
    "# test_scaled['building_class_category'] = le.transform(X_test['building_class_category'])"
   ]
  },
  {
   "cell_type": "code",
   "execution_count": 11,
   "id": "02bf6556",
   "metadata": {},
   "outputs": [],
   "source": [
    "# One Hot Encoding/Get dummies\n",
    "train_ohe = pd.get_dummies(X_train['building_class_category'], dtype=int)\n",
    "valid_ohe = pd.get_dummies(X_valid['building_class_category'], dtype=int)\n",
    "test_ohe = pd.get_dummies(X_test['building_class_category'], dtype=int)"
   ]
  },
  {
   "cell_type": "code",
   "execution_count": 12,
   "id": "ec3c7538",
   "metadata": {},
   "outputs": [],
   "source": [
    "# Concat Scaled Numerical Data with OHE\n",
    "train_eng = pd.concat([train_scaled, train_ohe], axis=1)\n",
    "valid_eng = pd.concat([valid_scaled, valid_ohe], axis=1)\n",
    "test_eng = pd.concat([test_scaled, test_ohe], axis=1)"
   ]
  },
  {
   "cell_type": "code",
   "execution_count": 13,
   "id": "5179e1cc",
   "metadata": {},
   "outputs": [
    {
     "data": {
      "text/html": [
       "<div>\n",
       "<style scoped>\n",
       "    .dataframe tbody tr th:only-of-type {\n",
       "        vertical-align: middle;\n",
       "    }\n",
       "\n",
       "    .dataframe tbody tr th {\n",
       "        vertical-align: top;\n",
       "    }\n",
       "\n",
       "    .dataframe thead th {\n",
       "        text-align: right;\n",
       "    }\n",
       "</style>\n",
       "<table border=\"1\" class=\"dataframe\">\n",
       "  <thead>\n",
       "    <tr style=\"text-align: right;\">\n",
       "      <th></th>\n",
       "      <th>gross_square_feet</th>\n",
       "      <th>year_built</th>\n",
       "      <th>subway_count_in_1km</th>\n",
       "      <th>bus_count_in_1km</th>\n",
       "      <th>schools_count_in_1km</th>\n",
       "      <th>health_facil_count_in_1km</th>\n",
       "      <th>park_properties_count_in_1km</th>\n",
       "      <th>park_zones_count_in_1km</th>\n",
       "      <th>01 ONE FAMILY DWELLINGS</th>\n",
       "      <th>02 TWO FAMILY DWELLINGS</th>\n",
       "      <th>03 THREE FAMILY DWELLINGS</th>\n",
       "      <th>07 RENTALS - WALKUP APARTMENTS</th>\n",
       "      <th>08 RENTALS - ELEVATOR APARTMENTS</th>\n",
       "      <th>14 RENTALS - 4-10 UNIT</th>\n",
       "    </tr>\n",
       "  </thead>\n",
       "  <tbody>\n",
       "    <tr>\n",
       "      <th>128157</th>\n",
       "      <td>-0.129707</td>\n",
       "      <td>-1.365760</td>\n",
       "      <td>0.252227</td>\n",
       "      <td>0.114231</td>\n",
       "      <td>-0.612665</td>\n",
       "      <td>-0.777153</td>\n",
       "      <td>-0.539631</td>\n",
       "      <td>0.37016</td>\n",
       "      <td>0</td>\n",
       "      <td>1</td>\n",
       "      <td>0</td>\n",
       "      <td>0</td>\n",
       "      <td>0</td>\n",
       "      <td>0</td>\n",
       "    </tr>\n",
       "    <tr>\n",
       "      <th>158906</th>\n",
       "      <td>-0.290651</td>\n",
       "      <td>0.374407</td>\n",
       "      <td>-0.652386</td>\n",
       "      <td>-0.581923</td>\n",
       "      <td>-0.903838</td>\n",
       "      <td>-0.521941</td>\n",
       "      <td>-0.754137</td>\n",
       "      <td>-0.74854</td>\n",
       "      <td>1</td>\n",
       "      <td>0</td>\n",
       "      <td>0</td>\n",
       "      <td>0</td>\n",
       "      <td>0</td>\n",
       "      <td>0</td>\n",
       "    </tr>\n",
       "    <tr>\n",
       "      <th>144731</th>\n",
       "      <td>-0.147458</td>\n",
       "      <td>0.886221</td>\n",
       "      <td>-0.652386</td>\n",
       "      <td>-0.581923</td>\n",
       "      <td>-0.806780</td>\n",
       "      <td>-0.904759</td>\n",
       "      <td>-0.325125</td>\n",
       "      <td>0.37016</td>\n",
       "      <td>0</td>\n",
       "      <td>1</td>\n",
       "      <td>0</td>\n",
       "      <td>0</td>\n",
       "      <td>0</td>\n",
       "      <td>0</td>\n",
       "    </tr>\n",
       "    <tr>\n",
       "      <th>89241</th>\n",
       "      <td>-0.143908</td>\n",
       "      <td>1.705124</td>\n",
       "      <td>-0.652386</td>\n",
       "      <td>-0.283571</td>\n",
       "      <td>-0.903838</td>\n",
       "      <td>-0.904759</td>\n",
       "      <td>-0.325125</td>\n",
       "      <td>-0.74854</td>\n",
       "      <td>0</td>\n",
       "      <td>0</td>\n",
       "      <td>1</td>\n",
       "      <td>0</td>\n",
       "      <td>0</td>\n",
       "      <td>0</td>\n",
       "    </tr>\n",
       "    <tr>\n",
       "      <th>48772</th>\n",
       "      <td>-0.080596</td>\n",
       "      <td>1.227431</td>\n",
       "      <td>0.352740</td>\n",
       "      <td>0.213682</td>\n",
       "      <td>0.357913</td>\n",
       "      <td>-0.266729</td>\n",
       "      <td>0.425646</td>\n",
       "      <td>-0.52480</td>\n",
       "      <td>0</td>\n",
       "      <td>1</td>\n",
       "      <td>0</td>\n",
       "      <td>0</td>\n",
       "      <td>0</td>\n",
       "      <td>0</td>\n",
       "    </tr>\n",
       "    <tr>\n",
       "      <th>...</th>\n",
       "      <td>...</td>\n",
       "      <td>...</td>\n",
       "      <td>...</td>\n",
       "      <td>...</td>\n",
       "      <td>...</td>\n",
       "      <td>...</td>\n",
       "      <td>...</td>\n",
       "      <td>...</td>\n",
       "      <td>...</td>\n",
       "      <td>...</td>\n",
       "      <td>...</td>\n",
       "      <td>...</td>\n",
       "      <td>...</td>\n",
       "      <td>...</td>\n",
       "    </tr>\n",
       "    <tr>\n",
       "      <th>6525</th>\n",
       "      <td>0.147210</td>\n",
       "      <td>-0.308011</td>\n",
       "      <td>-0.049310</td>\n",
       "      <td>0.512033</td>\n",
       "      <td>-0.030318</td>\n",
       "      <td>-0.139123</td>\n",
       "      <td>0.961911</td>\n",
       "      <td>0.81764</td>\n",
       "      <td>0</td>\n",
       "      <td>0</td>\n",
       "      <td>0</td>\n",
       "      <td>1</td>\n",
       "      <td>0</td>\n",
       "      <td>0</td>\n",
       "    </tr>\n",
       "    <tr>\n",
       "      <th>94820</th>\n",
       "      <td>-0.365008</td>\n",
       "      <td>-1.297518</td>\n",
       "      <td>-0.451361</td>\n",
       "      <td>-0.880274</td>\n",
       "      <td>-1.195012</td>\n",
       "      <td>-0.777153</td>\n",
       "      <td>-0.861390</td>\n",
       "      <td>-0.30106</td>\n",
       "      <td>1</td>\n",
       "      <td>0</td>\n",
       "      <td>0</td>\n",
       "      <td>0</td>\n",
       "      <td>0</td>\n",
       "      <td>0</td>\n",
       "    </tr>\n",
       "    <tr>\n",
       "      <th>183653</th>\n",
       "      <td>-0.208601</td>\n",
       "      <td>-0.137406</td>\n",
       "      <td>-0.652386</td>\n",
       "      <td>-0.184120</td>\n",
       "      <td>-0.321491</td>\n",
       "      <td>-0.777153</td>\n",
       "      <td>-0.646884</td>\n",
       "      <td>-0.74854</td>\n",
       "      <td>1</td>\n",
       "      <td>0</td>\n",
       "      <td>0</td>\n",
       "      <td>0</td>\n",
       "      <td>0</td>\n",
       "      <td>0</td>\n",
       "    </tr>\n",
       "    <tr>\n",
       "      <th>113299</th>\n",
       "      <td>-0.254360</td>\n",
       "      <td>-0.308011</td>\n",
       "      <td>-0.652386</td>\n",
       "      <td>-0.581923</td>\n",
       "      <td>-0.709723</td>\n",
       "      <td>-0.777153</td>\n",
       "      <td>-0.754137</td>\n",
       "      <td>-0.74854</td>\n",
       "      <td>1</td>\n",
       "      <td>0</td>\n",
       "      <td>0</td>\n",
       "      <td>0</td>\n",
       "      <td>0</td>\n",
       "      <td>0</td>\n",
       "    </tr>\n",
       "    <tr>\n",
       "      <th>143066</th>\n",
       "      <td>-0.229114</td>\n",
       "      <td>0.545012</td>\n",
       "      <td>-0.149823</td>\n",
       "      <td>0.313132</td>\n",
       "      <td>-0.030318</td>\n",
       "      <td>0.243695</td>\n",
       "      <td>-0.646884</td>\n",
       "      <td>-0.30106</td>\n",
       "      <td>1</td>\n",
       "      <td>0</td>\n",
       "      <td>0</td>\n",
       "      <td>0</td>\n",
       "      <td>0</td>\n",
       "      <td>0</td>\n",
       "    </tr>\n",
       "  </tbody>\n",
       "</table>\n",
       "<p>82201 rows × 14 columns</p>\n",
       "</div>"
      ],
      "text/plain": [
       "        gross_square_feet  year_built  subway_count_in_1km  bus_count_in_1km  \\\n",
       "128157          -0.129707   -1.365760             0.252227          0.114231   \n",
       "158906          -0.290651    0.374407            -0.652386         -0.581923   \n",
       "144731          -0.147458    0.886221            -0.652386         -0.581923   \n",
       "89241           -0.143908    1.705124            -0.652386         -0.283571   \n",
       "48772           -0.080596    1.227431             0.352740          0.213682   \n",
       "...                   ...         ...                  ...               ...   \n",
       "6525             0.147210   -0.308011            -0.049310          0.512033   \n",
       "94820           -0.365008   -1.297518            -0.451361         -0.880274   \n",
       "183653          -0.208601   -0.137406            -0.652386         -0.184120   \n",
       "113299          -0.254360   -0.308011            -0.652386         -0.581923   \n",
       "143066          -0.229114    0.545012            -0.149823          0.313132   \n",
       "\n",
       "        schools_count_in_1km  health_facil_count_in_1km  \\\n",
       "128157             -0.612665                  -0.777153   \n",
       "158906             -0.903838                  -0.521941   \n",
       "144731             -0.806780                  -0.904759   \n",
       "89241              -0.903838                  -0.904759   \n",
       "48772               0.357913                  -0.266729   \n",
       "...                      ...                        ...   \n",
       "6525               -0.030318                  -0.139123   \n",
       "94820              -1.195012                  -0.777153   \n",
       "183653             -0.321491                  -0.777153   \n",
       "113299             -0.709723                  -0.777153   \n",
       "143066             -0.030318                   0.243695   \n",
       "\n",
       "        park_properties_count_in_1km  park_zones_count_in_1km  \\\n",
       "128157                     -0.539631                  0.37016   \n",
       "158906                     -0.754137                 -0.74854   \n",
       "144731                     -0.325125                  0.37016   \n",
       "89241                      -0.325125                 -0.74854   \n",
       "48772                       0.425646                 -0.52480   \n",
       "...                              ...                      ...   \n",
       "6525                        0.961911                  0.81764   \n",
       "94820                      -0.861390                 -0.30106   \n",
       "183653                     -0.646884                 -0.74854   \n",
       "113299                     -0.754137                 -0.74854   \n",
       "143066                     -0.646884                 -0.30106   \n",
       "\n",
       "        01 ONE FAMILY DWELLINGS  02 TWO FAMILY DWELLINGS  \\\n",
       "128157                        0                        1   \n",
       "158906                        1                        0   \n",
       "144731                        0                        1   \n",
       "89241                         0                        0   \n",
       "48772                         0                        1   \n",
       "...                         ...                      ...   \n",
       "6525                          0                        0   \n",
       "94820                         1                        0   \n",
       "183653                        1                        0   \n",
       "113299                        1                        0   \n",
       "143066                        1                        0   \n",
       "\n",
       "        03 THREE FAMILY DWELLINGS  07 RENTALS - WALKUP APARTMENTS  \\\n",
       "128157                          0                               0   \n",
       "158906                          0                               0   \n",
       "144731                          0                               0   \n",
       "89241                           1                               0   \n",
       "48772                           0                               0   \n",
       "...                           ...                             ...   \n",
       "6525                            0                               1   \n",
       "94820                           0                               0   \n",
       "183653                          0                               0   \n",
       "113299                          0                               0   \n",
       "143066                          0                               0   \n",
       "\n",
       "        08 RENTALS - ELEVATOR APARTMENTS  14 RENTALS - 4-10 UNIT  \n",
       "128157                                 0                       0  \n",
       "158906                                 0                       0  \n",
       "144731                                 0                       0  \n",
       "89241                                  0                       0  \n",
       "48772                                  0                       0  \n",
       "...                                  ...                     ...  \n",
       "6525                                   0                       0  \n",
       "94820                                  0                       0  \n",
       "183653                                 0                       0  \n",
       "113299                                 0                       0  \n",
       "143066                                 0                       0  \n",
       "\n",
       "[82201 rows x 14 columns]"
      ]
     },
     "execution_count": 13,
     "metadata": {},
     "output_type": "execute_result"
    }
   ],
   "source": [
    "# Display data\n",
    "train_eng"
   ]
  },
  {
   "cell_type": "markdown",
   "id": "b529ae4c",
   "metadata": {},
   "source": [
    "# 4 Benchmark Modeling"
   ]
  },
  {
   "cell_type": "code",
   "execution_count": 14,
   "id": "1b8a3dd1",
   "metadata": {},
   "outputs": [],
   "source": [
    "# Model assignment\n",
    "lr = LinearRegression()\n",
    "dt = DecisionTreeRegressor()\n",
    "rf = RandomForestRegressor()\n",
    "xgb = XGBRegressor()\n",
    "\n",
    "models = [lr, dt, rf, xgb]"
   ]
  },
  {
   "cell_type": "code",
   "execution_count": 15,
   "id": "14d53fc7",
   "metadata": {},
   "outputs": [],
   "source": [
    "# Fit and evaluation\n",
    "tr_score = []\n",
    "val_score = []\n",
    "tr_rmse = []\n",
    "val_rmse = []\n",
    "tr_mape = []\n",
    "val_mape = []\n",
    "tr_mae = []\n",
    "val_mae = []\n",
    "\n",
    "for regressor in models:\n",
    "    regressor.fit(train_eng, y_train)\n",
    "\n",
    "    y_train_pred = regressor.predict(train_eng) \n",
    "    y_valid_pred = regressor.predict(valid_eng) \n",
    "    \n",
    "    tr_score.append(r2_score(y_train, y_train_pred))\n",
    "    val_score.append(r2_score(y_valid, y_valid_pred))\n",
    "    tr_rmse.append(np.sqrt(mse(y_train, y_train_pred)))\n",
    "    val_rmse.append(np.sqrt(mse(y_valid, y_valid_pred)))\n",
    "    tr_mape.append(mape(y_train, y_train_pred))\n",
    "    val_mape.append(mape(y_valid, y_valid_pred))\n",
    "    tr_mae.append(mae(y_train, y_train_pred))\n",
    "    val_mae.append(mae(y_valid, y_valid_pred))\n"
   ]
  },
  {
   "cell_type": "code",
   "execution_count": 16,
   "id": "71f6ff56",
   "metadata": {},
   "outputs": [
    {
     "data": {
      "text/html": [
       "<div>\n",
       "<style scoped>\n",
       "    .dataframe tbody tr th:only-of-type {\n",
       "        vertical-align: middle;\n",
       "    }\n",
       "\n",
       "    .dataframe tbody tr th {\n",
       "        vertical-align: top;\n",
       "    }\n",
       "\n",
       "    .dataframe thead th {\n",
       "        text-align: right;\n",
       "    }\n",
       "</style>\n",
       "<table border=\"1\" class=\"dataframe\">\n",
       "  <thead>\n",
       "    <tr style=\"text-align: right;\">\n",
       "      <th></th>\n",
       "      <th>Train R2 Score</th>\n",
       "      <th>Valid R2 Score</th>\n",
       "      <th>Train RMSE</th>\n",
       "      <th>Valid RMSE</th>\n",
       "      <th>Train MAPE</th>\n",
       "      <th>Valid MAPE</th>\n",
       "      <th>Train MAE</th>\n",
       "      <th>Valid MAE</th>\n",
       "    </tr>\n",
       "  </thead>\n",
       "  <tbody>\n",
       "    <tr>\n",
       "      <th>LinearRegression</th>\n",
       "      <td>0.407670</td>\n",
       "      <td>0.427538</td>\n",
       "      <td>2.232854e+06</td>\n",
       "      <td>2.016524e+06</td>\n",
       "      <td>1.367007</td>\n",
       "      <td>1.240148</td>\n",
       "      <td>657249.728474</td>\n",
       "      <td>646509.816885</td>\n",
       "    </tr>\n",
       "    <tr>\n",
       "      <th>DecisionTreeRegressor</th>\n",
       "      <td>0.983526</td>\n",
       "      <td>0.328640</td>\n",
       "      <td>3.723696e+05</td>\n",
       "      <td>2.183776e+06</td>\n",
       "      <td>0.105563</td>\n",
       "      <td>0.829772</td>\n",
       "      <td>40712.454319</td>\n",
       "      <td>562571.020324</td>\n",
       "    </tr>\n",
       "    <tr>\n",
       "      <th>RandomForestRegressor</th>\n",
       "      <td>0.926049</td>\n",
       "      <td>0.603168</td>\n",
       "      <td>7.889520e+05</td>\n",
       "      <td>1.678934e+06</td>\n",
       "      <td>0.354704</td>\n",
       "      <td>0.777577</td>\n",
       "      <td>182756.647582</td>\n",
       "      <td>435410.132840</td>\n",
       "    </tr>\n",
       "    <tr>\n",
       "      <th>XGBRegressor</th>\n",
       "      <td>0.904018</td>\n",
       "      <td>0.555254</td>\n",
       "      <td>8.988233e+05</td>\n",
       "      <td>1.777404e+06</td>\n",
       "      <td>0.884742</td>\n",
       "      <td>0.912936</td>\n",
       "      <td>364246.405283</td>\n",
       "      <td>474335.293125</td>\n",
       "    </tr>\n",
       "  </tbody>\n",
       "</table>\n",
       "</div>"
      ],
      "text/plain": [
       "                       Train R2 Score  Valid R2 Score    Train RMSE  \\\n",
       "LinearRegression             0.407670        0.427538  2.232854e+06   \n",
       "DecisionTreeRegressor        0.983526        0.328640  3.723696e+05   \n",
       "RandomForestRegressor        0.926049        0.603168  7.889520e+05   \n",
       "XGBRegressor                 0.904018        0.555254  8.988233e+05   \n",
       "\n",
       "                         Valid RMSE  Train MAPE  Valid MAPE      Train MAE  \\\n",
       "LinearRegression       2.016524e+06    1.367007    1.240148  657249.728474   \n",
       "DecisionTreeRegressor  2.183776e+06    0.105563    0.829772   40712.454319   \n",
       "RandomForestRegressor  1.678934e+06    0.354704    0.777577  182756.647582   \n",
       "XGBRegressor           1.777404e+06    0.884742    0.912936  364246.405283   \n",
       "\n",
       "                           Valid MAE  \n",
       "LinearRegression       646509.816885  \n",
       "DecisionTreeRegressor  562571.020324  \n",
       "RandomForestRegressor  435410.132840  \n",
       "XGBRegressor           474335.293125  "
      ]
     },
     "execution_count": 16,
     "metadata": {},
     "output_type": "execute_result"
    }
   ],
   "source": [
    "df_eval = pd.DataFrame({\n",
    "    'Train R2 Score':tr_score, 'Valid R2 Score':val_score,\n",
    "    'Train RMSE':tr_rmse, 'Valid RMSE':val_rmse,\n",
    "    'Train MAPE':tr_mape, 'Valid MAPE':val_mape,\n",
    "    'Train MAE':tr_mae, 'Valid MAE':val_mae, \n",
    "})\n",
    "\n",
    "df_eval.index = ['LinearRegression', 'DecisionTreeRegressor', 'RandomForestRegressor', 'XGBRegressor']\n",
    "df_eval"
   ]
  },
  {
   "cell_type": "markdown",
   "id": "76045234",
   "metadata": {},
   "source": [
    "# 5 Tweaking the Model"
   ]
  },
  {
   "cell_type": "markdown",
   "id": "a7c87d40",
   "metadata": {},
   "source": [
    "## 5.1 Feature Selection"
   ]
  },
  {
   "cell_type": "code",
   "execution_count": 17,
   "id": "974e89b5",
   "metadata": {},
   "outputs": [
    {
     "data": {
      "text/html": [
       "<style>#sk-container-id-1 {color: black;}#sk-container-id-1 pre{padding: 0;}#sk-container-id-1 div.sk-toggleable {background-color: white;}#sk-container-id-1 label.sk-toggleable__label {cursor: pointer;display: block;width: 100%;margin-bottom: 0;padding: 0.3em;box-sizing: border-box;text-align: center;}#sk-container-id-1 label.sk-toggleable__label-arrow:before {content: \"▸\";float: left;margin-right: 0.25em;color: #696969;}#sk-container-id-1 label.sk-toggleable__label-arrow:hover:before {color: black;}#sk-container-id-1 div.sk-estimator:hover label.sk-toggleable__label-arrow:before {color: black;}#sk-container-id-1 div.sk-toggleable__content {max-height: 0;max-width: 0;overflow: hidden;text-align: left;background-color: #f0f8ff;}#sk-container-id-1 div.sk-toggleable__content pre {margin: 0.2em;color: black;border-radius: 0.25em;background-color: #f0f8ff;}#sk-container-id-1 input.sk-toggleable__control:checked~div.sk-toggleable__content {max-height: 200px;max-width: 100%;overflow: auto;}#sk-container-id-1 input.sk-toggleable__control:checked~label.sk-toggleable__label-arrow:before {content: \"▾\";}#sk-container-id-1 div.sk-estimator input.sk-toggleable__control:checked~label.sk-toggleable__label {background-color: #d4ebff;}#sk-container-id-1 div.sk-label input.sk-toggleable__control:checked~label.sk-toggleable__label {background-color: #d4ebff;}#sk-container-id-1 input.sk-hidden--visually {border: 0;clip: rect(1px 1px 1px 1px);clip: rect(1px, 1px, 1px, 1px);height: 1px;margin: -1px;overflow: hidden;padding: 0;position: absolute;width: 1px;}#sk-container-id-1 div.sk-estimator {font-family: monospace;background-color: #f0f8ff;border: 1px dotted black;border-radius: 0.25em;box-sizing: border-box;margin-bottom: 0.5em;}#sk-container-id-1 div.sk-estimator:hover {background-color: #d4ebff;}#sk-container-id-1 div.sk-parallel-item::after {content: \"\";width: 100%;border-bottom: 1px solid gray;flex-grow: 1;}#sk-container-id-1 div.sk-label:hover label.sk-toggleable__label {background-color: #d4ebff;}#sk-container-id-1 div.sk-serial::before {content: \"\";position: absolute;border-left: 1px solid gray;box-sizing: border-box;top: 0;bottom: 0;left: 50%;z-index: 0;}#sk-container-id-1 div.sk-serial {display: flex;flex-direction: column;align-items: center;background-color: white;padding-right: 0.2em;padding-left: 0.2em;position: relative;}#sk-container-id-1 div.sk-item {position: relative;z-index: 1;}#sk-container-id-1 div.sk-parallel {display: flex;align-items: stretch;justify-content: center;background-color: white;position: relative;}#sk-container-id-1 div.sk-item::before, #sk-container-id-1 div.sk-parallel-item::before {content: \"\";position: absolute;border-left: 1px solid gray;box-sizing: border-box;top: 0;bottom: 0;left: 50%;z-index: -1;}#sk-container-id-1 div.sk-parallel-item {display: flex;flex-direction: column;z-index: 1;position: relative;background-color: white;}#sk-container-id-1 div.sk-parallel-item:first-child::after {align-self: flex-end;width: 50%;}#sk-container-id-1 div.sk-parallel-item:last-child::after {align-self: flex-start;width: 50%;}#sk-container-id-1 div.sk-parallel-item:only-child::after {width: 0;}#sk-container-id-1 div.sk-dashed-wrapped {border: 1px dashed gray;margin: 0 0.4em 0.5em 0.4em;box-sizing: border-box;padding-bottom: 0.4em;background-color: white;}#sk-container-id-1 div.sk-label label {font-family: monospace;font-weight: bold;display: inline-block;line-height: 1.2em;}#sk-container-id-1 div.sk-label-container {text-align: center;}#sk-container-id-1 div.sk-container {/* jupyter's `normalize.less` sets `[hidden] { display: none; }` but bootstrap.min.css set `[hidden] { display: none !important; }` so we also need the `!important` here to be able to override the default hidden behavior on the sphinx rendered scikit-learn.org. See: https://github.com/scikit-learn/scikit-learn/issues/21755 */display: inline-block !important;position: relative;}#sk-container-id-1 div.sk-text-repr-fallback {display: none;}</style><div id=\"sk-container-id-1\" class=\"sk-top-container\"><div class=\"sk-text-repr-fallback\"><pre>RandomForestRegressor()</pre><b>In a Jupyter environment, please rerun this cell to show the HTML representation or trust the notebook. <br />On GitHub, the HTML representation is unable to render, please try loading this page with nbviewer.org.</b></div><div class=\"sk-container\" hidden><div class=\"sk-item\"><div class=\"sk-estimator sk-toggleable\"><input class=\"sk-toggleable__control sk-hidden--visually\" id=\"sk-estimator-id-1\" type=\"checkbox\" checked><label for=\"sk-estimator-id-1\" class=\"sk-toggleable__label sk-toggleable__label-arrow\">RandomForestRegressor</label><div class=\"sk-toggleable__content\"><pre>RandomForestRegressor()</pre></div></div></div></div></div>"
      ],
      "text/plain": [
       "RandomForestRegressor()"
      ]
     },
     "execution_count": 17,
     "metadata": {},
     "output_type": "execute_result"
    }
   ],
   "source": [
    "RandomForestRegressor()"
   ]
  },
  {
   "cell_type": "code",
   "execution_count": 18,
   "id": "23223b50",
   "metadata": {
    "scrolled": false
   },
   "outputs": [
    {
     "data": {
      "text/html": [
       "<style>#sk-container-id-2 {color: black;}#sk-container-id-2 pre{padding: 0;}#sk-container-id-2 div.sk-toggleable {background-color: white;}#sk-container-id-2 label.sk-toggleable__label {cursor: pointer;display: block;width: 100%;margin-bottom: 0;padding: 0.3em;box-sizing: border-box;text-align: center;}#sk-container-id-2 label.sk-toggleable__label-arrow:before {content: \"▸\";float: left;margin-right: 0.25em;color: #696969;}#sk-container-id-2 label.sk-toggleable__label-arrow:hover:before {color: black;}#sk-container-id-2 div.sk-estimator:hover label.sk-toggleable__label-arrow:before {color: black;}#sk-container-id-2 div.sk-toggleable__content {max-height: 0;max-width: 0;overflow: hidden;text-align: left;background-color: #f0f8ff;}#sk-container-id-2 div.sk-toggleable__content pre {margin: 0.2em;color: black;border-radius: 0.25em;background-color: #f0f8ff;}#sk-container-id-2 input.sk-toggleable__control:checked~div.sk-toggleable__content {max-height: 200px;max-width: 100%;overflow: auto;}#sk-container-id-2 input.sk-toggleable__control:checked~label.sk-toggleable__label-arrow:before {content: \"▾\";}#sk-container-id-2 div.sk-estimator input.sk-toggleable__control:checked~label.sk-toggleable__label {background-color: #d4ebff;}#sk-container-id-2 div.sk-label input.sk-toggleable__control:checked~label.sk-toggleable__label {background-color: #d4ebff;}#sk-container-id-2 input.sk-hidden--visually {border: 0;clip: rect(1px 1px 1px 1px);clip: rect(1px, 1px, 1px, 1px);height: 1px;margin: -1px;overflow: hidden;padding: 0;position: absolute;width: 1px;}#sk-container-id-2 div.sk-estimator {font-family: monospace;background-color: #f0f8ff;border: 1px dotted black;border-radius: 0.25em;box-sizing: border-box;margin-bottom: 0.5em;}#sk-container-id-2 div.sk-estimator:hover {background-color: #d4ebff;}#sk-container-id-2 div.sk-parallel-item::after {content: \"\";width: 100%;border-bottom: 1px solid gray;flex-grow: 1;}#sk-container-id-2 div.sk-label:hover label.sk-toggleable__label {background-color: #d4ebff;}#sk-container-id-2 div.sk-serial::before {content: \"\";position: absolute;border-left: 1px solid gray;box-sizing: border-box;top: 0;bottom: 0;left: 50%;z-index: 0;}#sk-container-id-2 div.sk-serial {display: flex;flex-direction: column;align-items: center;background-color: white;padding-right: 0.2em;padding-left: 0.2em;position: relative;}#sk-container-id-2 div.sk-item {position: relative;z-index: 1;}#sk-container-id-2 div.sk-parallel {display: flex;align-items: stretch;justify-content: center;background-color: white;position: relative;}#sk-container-id-2 div.sk-item::before, #sk-container-id-2 div.sk-parallel-item::before {content: \"\";position: absolute;border-left: 1px solid gray;box-sizing: border-box;top: 0;bottom: 0;left: 50%;z-index: -1;}#sk-container-id-2 div.sk-parallel-item {display: flex;flex-direction: column;z-index: 1;position: relative;background-color: white;}#sk-container-id-2 div.sk-parallel-item:first-child::after {align-self: flex-end;width: 50%;}#sk-container-id-2 div.sk-parallel-item:last-child::after {align-self: flex-start;width: 50%;}#sk-container-id-2 div.sk-parallel-item:only-child::after {width: 0;}#sk-container-id-2 div.sk-dashed-wrapped {border: 1px dashed gray;margin: 0 0.4em 0.5em 0.4em;box-sizing: border-box;padding-bottom: 0.4em;background-color: white;}#sk-container-id-2 div.sk-label label {font-family: monospace;font-weight: bold;display: inline-block;line-height: 1.2em;}#sk-container-id-2 div.sk-label-container {text-align: center;}#sk-container-id-2 div.sk-container {/* jupyter's `normalize.less` sets `[hidden] { display: none; }` but bootstrap.min.css set `[hidden] { display: none !important; }` so we also need the `!important` here to be able to override the default hidden behavior on the sphinx rendered scikit-learn.org. See: https://github.com/scikit-learn/scikit-learn/issues/21755 */display: inline-block !important;position: relative;}#sk-container-id-2 div.sk-text-repr-fallback {display: none;}</style><div id=\"sk-container-id-2\" class=\"sk-top-container\"><div class=\"sk-text-repr-fallback\"><pre>SelectFromModel(estimator=RandomForestRegressor())</pre><b>In a Jupyter environment, please rerun this cell to show the HTML representation or trust the notebook. <br />On GitHub, the HTML representation is unable to render, please try loading this page with nbviewer.org.</b></div><div class=\"sk-container\" hidden><div class=\"sk-item sk-dashed-wrapped\"><div class=\"sk-label-container\"><div class=\"sk-label sk-toggleable\"><input class=\"sk-toggleable__control sk-hidden--visually\" id=\"sk-estimator-id-2\" type=\"checkbox\" ><label for=\"sk-estimator-id-2\" class=\"sk-toggleable__label sk-toggleable__label-arrow\">SelectFromModel</label><div class=\"sk-toggleable__content\"><pre>SelectFromModel(estimator=RandomForestRegressor())</pre></div></div></div><div class=\"sk-parallel\"><div class=\"sk-parallel-item\"><div class=\"sk-item\"><div class=\"sk-label-container\"><div class=\"sk-label sk-toggleable\"><input class=\"sk-toggleable__control sk-hidden--visually\" id=\"sk-estimator-id-3\" type=\"checkbox\" ><label for=\"sk-estimator-id-3\" class=\"sk-toggleable__label sk-toggleable__label-arrow\">estimator: RandomForestRegressor</label><div class=\"sk-toggleable__content\"><pre>RandomForestRegressor()</pre></div></div></div><div class=\"sk-serial\"><div class=\"sk-item\"><div class=\"sk-estimator sk-toggleable\"><input class=\"sk-toggleable__control sk-hidden--visually\" id=\"sk-estimator-id-4\" type=\"checkbox\" ><label for=\"sk-estimator-id-4\" class=\"sk-toggleable__label sk-toggleable__label-arrow\">RandomForestRegressor</label><div class=\"sk-toggleable__content\"><pre>RandomForestRegressor()</pre></div></div></div></div></div></div></div></div></div></div>"
      ],
      "text/plain": [
       "SelectFromModel(estimator=RandomForestRegressor())"
      ]
     },
     "execution_count": 18,
     "metadata": {},
     "output_type": "execute_result"
    }
   ],
   "source": [
    "sel = SelectFromModel(RandomForestRegressor(n_estimators = 100))\n",
    "sel.fit(train_eng, y_train)"
   ]
  },
  {
   "cell_type": "code",
   "execution_count": 19,
   "id": "2061824f",
   "metadata": {},
   "outputs": [
    {
     "name": "stdout",
     "output_type": "stream",
     "text": [
      "Index(['gross_square_feet', 'year_built', 'subway_count_in_1km',\n",
      "       'schools_count_in_1km', 'park_zones_count_in_1km'],\n",
      "      dtype='object')\n"
     ]
    }
   ],
   "source": [
    "# Get the name of the features selected\n",
    "selected_feat = train_eng.columns[(sel.get_support())]\n",
    "print(selected_feat)"
   ]
  },
  {
   "cell_type": "code",
   "execution_count": 20,
   "id": "0f6c080c",
   "metadata": {},
   "outputs": [
    {
     "name": "stdout",
     "output_type": "stream",
     "text": [
      "gross_square_feet                   0.433404\n",
      "subway_count_in_1km                 0.116432\n",
      "park_zones_count_in_1km             0.091657\n",
      "year_built                          0.088129\n",
      "park_properties_count_in_1km        0.072532\n",
      "schools_count_in_1km                0.069935\n",
      "health_facil_count_in_1km           0.050157\n",
      "bus_count_in_1km                    0.048228\n",
      "07 RENTALS - WALKUP APARTMENTS      0.012749\n",
      "01 ONE FAMILY DWELLINGS             0.007384\n",
      "08 RENTALS - ELEVATOR APARTMENTS    0.005568\n",
      "02 TWO FAMILY DWELLINGS             0.001520\n",
      "14 RENTALS - 4-10 UNIT              0.001445\n",
      "03 THREE FAMILY DWELLINGS           0.000862\n",
      "dtype: float64\n"
     ]
    },
    {
     "data": {
      "image/png": "[encoded data removed]",
      "text/plain": [
       "<Figure size 640x480 with 1 Axes>"
      ]
     },
     "metadata": {},
     "output_type": "display_data"
    }
   ],
   "source": [
    "# Feature importance\n",
    "feature_names = train_eng.columns\n",
    "importances = rf.feature_importances_\n",
    "forest_importances = pd.Series(importances, index=feature_names)\n",
    "std = np.std([tree.feature_importances_ for tree in rf.estimators_], axis=0)\n",
    "\n",
    "fig, ax = plt.subplots()\n",
    "forest_importances.plot.bar(yerr=std, ax=ax)\n",
    "ax.set_title(\"Feature importances using MDI\")\n",
    "ax.set_ylabel(\"Mean decrease in impurity\")\n",
    "fig.tight_layout()\n",
    "\n",
    "print(forest_importances.sort_values(ascending=False))"
   ]
  },
  {
   "cell_type": "markdown",
   "id": "3abc6e6b",
   "metadata": {},
   "source": [
    "## 5.2 Hyperparameter Tuning"
   ]
  },
  {
   "cell_type": "code",
   "execution_count": 21,
   "id": "8deb4654",
   "metadata": {},
   "outputs": [],
   "source": [
    "selected_features = ['gross_square_feet', 'year_built', 'subway_count_in_1km', \n",
    "                     'schools_count_in_1km', 'park_zones_count_in_1km']"
   ]
  },
  {
   "cell_type": "code",
   "execution_count": 22,
   "id": "22c3b870",
   "metadata": {},
   "outputs": [],
   "source": [
    "hyperparam_rf = {\n",
    "    \"n_estimators\": [100, 200, 300],\n",
    "    \"min_samples_split\":  [2, 5, 10],\n",
    "    \"min_samples_leaf\": [1, 2, 5]\n",
    "}"
   ]
  },
  {
   "cell_type": "code",
   "execution_count": 23,
   "id": "563fede6",
   "metadata": {
    "scrolled": false
   },
   "outputs": [
    {
     "name": "stdout",
     "output_type": "stream",
     "text": [
      "Fitting 3 folds for each of 27 candidates, totalling 81 fits\n"
     ]
    },
    {
     "data": {
      "text/html": [
       "<style>#sk-container-id-3 {color: black;}#sk-container-id-3 pre{padding: 0;}#sk-container-id-3 div.sk-toggleable {background-color: white;}#sk-container-id-3 label.sk-toggleable__label {cursor: pointer;display: block;width: 100%;margin-bottom: 0;padding: 0.3em;box-sizing: border-box;text-align: center;}#sk-container-id-3 label.sk-toggleable__label-arrow:before {content: \"▸\";float: left;margin-right: 0.25em;color: #696969;}#sk-container-id-3 label.sk-toggleable__label-arrow:hover:before {color: black;}#sk-container-id-3 div.sk-estimator:hover label.sk-toggleable__label-arrow:before {color: black;}#sk-container-id-3 div.sk-toggleable__content {max-height: 0;max-width: 0;overflow: hidden;text-align: left;background-color: #f0f8ff;}#sk-container-id-3 div.sk-toggleable__content pre {margin: 0.2em;color: black;border-radius: 0.25em;background-color: #f0f8ff;}#sk-container-id-3 input.sk-toggleable__control:checked~div.sk-toggleable__content {max-height: 200px;max-width: 100%;overflow: auto;}#sk-container-id-3 input.sk-toggleable__control:checked~label.sk-toggleable__label-arrow:before {content: \"▾\";}#sk-container-id-3 div.sk-estimator input.sk-toggleable__control:checked~label.sk-toggleable__label {background-color: #d4ebff;}#sk-container-id-3 div.sk-label input.sk-toggleable__control:checked~label.sk-toggleable__label {background-color: #d4ebff;}#sk-container-id-3 input.sk-hidden--visually {border: 0;clip: rect(1px 1px 1px 1px);clip: rect(1px, 1px, 1px, 1px);height: 1px;margin: -1px;overflow: hidden;padding: 0;position: absolute;width: 1px;}#sk-container-id-3 div.sk-estimator {font-family: monospace;background-color: #f0f8ff;border: 1px dotted black;border-radius: 0.25em;box-sizing: border-box;margin-bottom: 0.5em;}#sk-container-id-3 div.sk-estimator:hover {background-color: #d4ebff;}#sk-container-id-3 div.sk-parallel-item::after {content: \"\";width: 100%;border-bottom: 1px solid gray;flex-grow: 1;}#sk-container-id-3 div.sk-label:hover label.sk-toggleable__label {background-color: #d4ebff;}#sk-container-id-3 div.sk-serial::before {content: \"\";position: absolute;border-left: 1px solid gray;box-sizing: border-box;top: 0;bottom: 0;left: 50%;z-index: 0;}#sk-container-id-3 div.sk-serial {display: flex;flex-direction: column;align-items: center;background-color: white;padding-right: 0.2em;padding-left: 0.2em;position: relative;}#sk-container-id-3 div.sk-item {position: relative;z-index: 1;}#sk-container-id-3 div.sk-parallel {display: flex;align-items: stretch;justify-content: center;background-color: white;position: relative;}#sk-container-id-3 div.sk-item::before, #sk-container-id-3 div.sk-parallel-item::before {content: \"\";position: absolute;border-left: 1px solid gray;box-sizing: border-box;top: 0;bottom: 0;left: 50%;z-index: -1;}#sk-container-id-3 div.sk-parallel-item {display: flex;flex-direction: column;z-index: 1;position: relative;background-color: white;}#sk-container-id-3 div.sk-parallel-item:first-child::after {align-self: flex-end;width: 50%;}#sk-container-id-3 div.sk-parallel-item:last-child::after {align-self: flex-start;width: 50%;}#sk-container-id-3 div.sk-parallel-item:only-child::after {width: 0;}#sk-container-id-3 div.sk-dashed-wrapped {border: 1px dashed gray;margin: 0 0.4em 0.5em 0.4em;box-sizing: border-box;padding-bottom: 0.4em;background-color: white;}#sk-container-id-3 div.sk-label label {font-family: monospace;font-weight: bold;display: inline-block;line-height: 1.2em;}#sk-container-id-3 div.sk-label-container {text-align: center;}#sk-container-id-3 div.sk-container {/* jupyter's `normalize.less` sets `[hidden] { display: none; }` but bootstrap.min.css set `[hidden] { display: none !important; }` so we also need the `!important` here to be able to override the default hidden behavior on the sphinx rendered scikit-learn.org. See: https://github.com/scikit-learn/scikit-learn/issues/21755 */display: inline-block !important;position: relative;}#sk-container-id-3 div.sk-text-repr-fallback {display: none;}</style><div id=\"sk-container-id-3\" class=\"sk-top-container\"><div class=\"sk-text-repr-fallback\"><pre>GridSearchCV(cv=StratifiedKFold(n_splits=3, random_state=None, shuffle=False),\n",
       "             estimator=RandomForestRegressor(), n_jobs=-1,\n",
       "             param_grid={&#x27;min_samples_leaf&#x27;: [1, 2, 5],\n",
       "                         &#x27;min_samples_split&#x27;: [2, 5, 10],\n",
       "                         &#x27;n_estimators&#x27;: [100, 200, 300]},\n",
       "             scoring=&#x27;neg_median_absolute_error&#x27;, verbose=1)</pre><b>In a Jupyter environment, please rerun this cell to show the HTML representation or trust the notebook. <br />On GitHub, the HTML representation is unable to render, please try loading this page with nbviewer.org.</b></div><div class=\"sk-container\" hidden><div class=\"sk-item sk-dashed-wrapped\"><div class=\"sk-label-container\"><div class=\"sk-label sk-toggleable\"><input class=\"sk-toggleable__control sk-hidden--visually\" id=\"sk-estimator-id-5\" type=\"checkbox\" ><label for=\"sk-estimator-id-5\" class=\"sk-toggleable__label sk-toggleable__label-arrow\">GridSearchCV</label><div class=\"sk-toggleable__content\"><pre>GridSearchCV(cv=StratifiedKFold(n_splits=3, random_state=None, shuffle=False),\n",
       "             estimator=RandomForestRegressor(), n_jobs=-1,\n",
       "             param_grid={&#x27;min_samples_leaf&#x27;: [1, 2, 5],\n",
       "                         &#x27;min_samples_split&#x27;: [2, 5, 10],\n",
       "                         &#x27;n_estimators&#x27;: [100, 200, 300]},\n",
       "             scoring=&#x27;neg_median_absolute_error&#x27;, verbose=1)</pre></div></div></div><div class=\"sk-parallel\"><div class=\"sk-parallel-item\"><div class=\"sk-item\"><div class=\"sk-label-container\"><div class=\"sk-label sk-toggleable\"><input class=\"sk-toggleable__control sk-hidden--visually\" id=\"sk-estimator-id-6\" type=\"checkbox\" ><label for=\"sk-estimator-id-6\" class=\"sk-toggleable__label sk-toggleable__label-arrow\">estimator: RandomForestRegressor</label><div class=\"sk-toggleable__content\"><pre>RandomForestRegressor()</pre></div></div></div><div class=\"sk-serial\"><div class=\"sk-item\"><div class=\"sk-estimator sk-toggleable\"><input class=\"sk-toggleable__control sk-hidden--visually\" id=\"sk-estimator-id-7\" type=\"checkbox\" ><label for=\"sk-estimator-id-7\" class=\"sk-toggleable__label sk-toggleable__label-arrow\">RandomForestRegressor</label><div class=\"sk-toggleable__content\"><pre>RandomForestRegressor()</pre></div></div></div></div></div></div></div></div></div></div>"
      ],
      "text/plain": [
       "GridSearchCV(cv=StratifiedKFold(n_splits=3, random_state=None, shuffle=False),\n",
       "             estimator=RandomForestRegressor(), n_jobs=-1,\n",
       "             param_grid={'min_samples_leaf': [1, 2, 5],\n",
       "                         'min_samples_split': [2, 5, 10],\n",
       "                         'n_estimators': [100, 200, 300]},\n",
       "             scoring='neg_median_absolute_error', verbose=1)"
      ]
     },
     "execution_count": 23,
     "metadata": {},
     "output_type": "execute_result"
    }
   ],
   "source": [
    "skf = StratifiedKFold(n_splits=3)\n",
    "\n",
    "rf_grid = GridSearchCV(rf, param_grid=hyperparam_rf, scoring='neg_median_absolute_error', cv=skf, verbose=1, n_jobs=-1)\n",
    "rf_grid.fit(train_eng[selected_features], y_train)"
   ]
  },
  {
   "cell_type": "code",
   "execution_count": 24,
   "id": "f8a8712c",
   "metadata": {},
   "outputs": [
    {
     "data": {
      "text/plain": [
       "{'min_samples_leaf': 2, 'min_samples_split': 10, 'n_estimators': 300}"
      ]
     },
     "execution_count": 24,
     "metadata": {},
     "output_type": "execute_result"
    }
   ],
   "source": [
    "rf_grid.best_params_"
   ]
  },
  {
   "cell_type": "code",
   "execution_count": 25,
   "id": "30a5d970",
   "metadata": {},
   "outputs": [],
   "source": [
    "rf_tuned = rf_grid.best_estimator_"
   ]
  },
  {
   "cell_type": "code",
   "execution_count": 26,
   "id": "437a5553",
   "metadata": {},
   "outputs": [
    {
     "name": "stdout",
     "output_type": "stream",
     "text": [
      "0.7500813043457906\n",
      "1450366.8886798588\n",
      "0.6547550379723925\n",
      "330113.4259302001\n"
     ]
    }
   ],
   "source": [
    "# Fit and evaluate tuned RF to the selected features\n",
    "rf_tuned.fit(train_eng[selected_features], y_train)\n",
    "y_pred_rf_tuned_tr = rf_tuned.predict(train_eng[selected_features])\n",
    "\n",
    "print(r2_score(y_train, y_pred_rf_tuned_tr))\n",
    "print(np.sqrt(mse(y_train, y_pred_rf_tuned_tr)))\n",
    "print(mape(y_train, y_pred_rf_tuned_tr))\n",
    "print(mae(y_train, y_pred_rf_tuned_tr))"
   ]
  },
  {
   "cell_type": "code",
   "execution_count": 27,
   "id": "e479b645",
   "metadata": {},
   "outputs": [
    {
     "name": "stdout",
     "output_type": "stream",
     "text": [
      "0.7772946528754444\n",
      "1369127.2862420937\n",
      "0.5768390890183176\n",
      "286756.6261322414\n"
     ]
    }
   ],
   "source": [
    "# Fit and evaluate tuned RF to the original features\n",
    "rf_tuned.fit(train_eng, y_train)\n",
    "y_pred_rf_tuned_tr = rf_tuned.predict(train_eng)\n",
    "\n",
    "print(r2_score(y_train, y_pred_rf_tuned_tr))\n",
    "print(np.sqrt(mse(y_train, y_pred_rf_tuned_tr)))\n",
    "print(mape(y_train, y_pred_rf_tuned_tr))\n",
    "print(mae(y_train, y_pred_rf_tuned_tr))"
   ]
  },
  {
   "cell_type": "code",
   "execution_count": 28,
   "id": "cb0bd6a8",
   "metadata": {},
   "outputs": [
    {
     "name": "stdout",
     "output_type": "stream",
     "text": [
      "0.923125206371843\n",
      "804397.0793893524\n",
      "0.3946504597681455\n",
      "202480.9944717206\n"
     ]
    }
   ],
   "source": [
    "# Fit and evaluate benchmark RF to the selected features\n",
    "rf.fit(train_eng[selected_features], y_train)\n",
    "y_pred_rf_tuned_tr = rf.predict(train_eng[selected_features])\n",
    "\n",
    "print(r2_score(y_train, y_pred_rf_tuned_tr))\n",
    "print(np.sqrt(mse(y_train, y_pred_rf_tuned_tr)))\n",
    "print(mape(y_train, y_pred_rf_tuned_tr))\n",
    "print(mae(y_train, y_pred_rf_tuned_tr))"
   ]
  },
  {
   "cell_type": "code",
   "execution_count": 29,
   "id": "29aff0af",
   "metadata": {},
   "outputs": [
    {
     "name": "stdout",
     "output_type": "stream",
     "text": [
      "0.9220915073811468\n",
      "809787.1938513742\n",
      "0.3572233659667851\n",
      "182598.4479128543\n"
     ]
    }
   ],
   "source": [
    "# Fit and evaluate benchmark RF to the original features\n",
    "rf.fit(train_eng, y_train)\n",
    "y_pred_rf_tuned_tr = rf.predict(train_eng)\n",
    "\n",
    "print(r2_score(y_train, y_pred_rf_tuned_tr))\n",
    "print(np.sqrt(mse(y_train, y_pred_rf_tuned_tr)))\n",
    "print(mape(y_train, y_pred_rf_tuned_tr))\n",
    "print(mae(y_train, y_pred_rf_tuned_tr))"
   ]
  },
  {
   "cell_type": "markdown",
   "id": "b92f9847",
   "metadata": {},
   "source": [
    "# 6 Predict Test Data and Evaluate"
   ]
  },
  {
   "cell_type": "code",
   "execution_count": 30,
   "id": "2ec7774b",
   "metadata": {},
   "outputs": [],
   "source": [
    "rf_tuned.fit(train_eng[selected_features], y_train)\n",
    "y_pred_rf_tuned_ts = rf_tuned.predict(test_eng[selected_features])"
   ]
  },
  {
   "cell_type": "code",
   "execution_count": 31,
   "id": "0459c9d5",
   "metadata": {},
   "outputs": [
    {
     "name": "stdout",
     "output_type": "stream",
     "text": [
      "0.5394107522821621\n",
      "1774504.1767629767\n",
      "0.926333248053777\n",
      "454788.704017477\n"
     ]
    }
   ],
   "source": [
    "print(r2_score(y_test, y_pred_rf_tuned_ts))\n",
    "print(np.sqrt(mse(y_test, y_pred_rf_tuned_ts)))\n",
    "print(mape(y_test, y_pred_rf_tuned_ts))\n",
    "print(mae(y_test, y_pred_rf_tuned_ts))"
   ]
  },
  {
   "cell_type": "code",
   "execution_count": 32,
   "id": "49bc2ab6",
   "metadata": {},
   "outputs": [],
   "source": [
    "rf.fit(train_eng, y_train)\n",
    "y_pred_rf_ts = rf.predict(test_eng)"
   ]
  },
  {
   "cell_type": "code",
   "execution_count": 33,
   "id": "d828da0b",
   "metadata": {},
   "outputs": [
    {
     "name": "stdout",
     "output_type": "stream",
     "text": [
      "0.5828085602762372\n",
      "1688837.3398799591\n",
      "0.8127432154670662\n",
      "417616.238763725\n"
     ]
    }
   ],
   "source": [
    "print(r2_score(y_test, y_pred_rf_ts))\n",
    "print(np.sqrt(mse(y_test, y_pred_rf_ts)))\n",
    "print(mape(y_test, y_pred_rf_ts))\n",
    "print(mae(y_test, y_pred_rf_ts))"
   ]
  },
  {
   "cell_type": "markdown",
   "id": "7fb71511",
   "metadata": {},
   "source": [
    "It seems like the default RandomForestRegressor using all features outperform the tuned one. So, this model will be chosen for deployment."
   ]
  },
  {
   "cell_type": "markdown",
   "id": "6252fc9d",
   "metadata": {},
   "source": [
    "# 7 Save Model"
   ]
  },
  {
   "cell_type": "code",
   "execution_count": 34,
   "id": "9872242a",
   "metadata": {},
   "outputs": [],
   "source": [
    "# Combine all data\n",
    "X = pd.concat([train_eng, valid_eng, test_eng])\n",
    "y = pd.concat([y_train, y_valid, y_test] )"
   ]
  },
  {
   "cell_type": "code",
   "execution_count": 35,
   "id": "2538b833",
   "metadata": {},
   "outputs": [],
   "source": [
    "# Fit all data and pickle save\n",
    "best_model = rf\n",
    "best_model.fit(X,y)\n",
    "model_file_name = 'model/rf_model_20230119.sav'\n",
    "pickle.dump(best_model, open(model_file_name, 'wb'))"
   ]
  }
 ],
 "metadata": {
  "kernelspec": {
   "display_name": "geo_env",
   "language": "python",
   "name": "geo_env"
  },
  "language_info": {
   "codemirror_mode": {
    "name": "ipython",
    "version": 3
   },
   "file_extension": ".py",
   "mimetype": "text/x-python",
   "name": "python",
   "nbconvert_exporter": "python",
   "pygments_lexer": "ipython3",
   "version": "3.11.5"
  }
 },
 "nbformat": 4,
 "nbformat_minor": 5
}
